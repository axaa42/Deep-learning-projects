{
 "cells": [
  {
   "cell_type": "code",
   "execution_count": 45,
   "metadata": {},
   "outputs": [],
   "source": [
    "import pandas as pd\n",
    "import numpy as np\n",
    "import matplotlib.pyplot as plt\n"
   ]
  },
  {
   "cell_type": "code",
   "execution_count": 46,
   "metadata": {},
   "outputs": [],
   "source": [
    "data=pd.read_csv(\"AirPassengers.csv\",usecols=[1])"
   ]
  },
  {
   "cell_type": "code",
   "execution_count": 47,
   "metadata": {},
   "outputs": [
    {
     "data": {
      "image/png": "[encoded data removed]",
      "text/plain": [
       "<Figure size 432x288 with 1 Axes>"
      ]
     },
     "metadata": {},
     "output_type": "display_data"
    }
   ],
   "source": [
    "plt.plot(data)\n",
    "plt.show()"
   ]
  },
  {
   "cell_type": "code",
   "execution_count": 48,
   "metadata": {},
   "outputs": [],
   "source": [
    "import math\n",
    "from keras.models import Sequential\n",
    "from keras.layers import Dense\n",
    "from keras.layers import LSTM\n",
    "from sklearn.preprocessing import MinMaxScaler\n",
    "from sklearn.metrics import mean_squared_error\n",
    "\n",
    "# fix random seed for reproducibility\n",
    "np.random.seed(7)"
   ]
  },
  {
   "cell_type": "code",
   "execution_count": 49,
   "metadata": {},
   "outputs": [],
   "source": [
    "dataset = data.values\n",
    "dataset = dataset.astype('float32')\n",
    "\n",
    "scaler = MinMaxScaler(feature_range=(0, 1))\n",
    "dataset = scaler.fit_transform(dataset)"
   ]
  },
  {
   "cell_type": "code",
   "execution_count": 50,
   "metadata": {},
   "outputs": [
    {
     "name": "stdout",
     "output_type": "stream",
     "text": [
      "96 48\n"
     ]
    }
   ],
   "source": [
    "train_size = int(len(dataset) * 0.67)\n",
    "test_size = len(dataset) - train_size\n",
    "train, test = dataset[0:train_size,:], dataset[train_size:len(dataset),:]\n",
    "print(len(train), len(test))"
   ]
  },
  {
   "cell_type": "code",
   "execution_count": 51,
   "metadata": {},
   "outputs": [],
   "source": [
    "# convert an array of values into a dataset matrix\n",
    "def create_dataset(dataset, look_back=1):\n",
    "    dataX, dataY = [], []\n",
    "    for i in range(len(dataset)-look_back-1):\n",
    "        a = dataset[i:(i+look_back), 0]\n",
    "        dataX.append(a)\n",
    "        dataY.append(dataset[i + look_back, 0])\n",
    "    return np.array(dataX), np.array(dataY)"
   ]
  },
  {
   "cell_type": "code",
   "execution_count": 52,
   "metadata": {},
   "outputs": [],
   "source": [
    "\n",
    "# reshape into X=t and Y=t+1\n",
    "look_back1 = 15\n",
    "trainX, trainY = create_dataset(train, look_back1)\n",
    "testX, testY = create_dataset(test, look_back1)"
   ]
  },
  {
   "cell_type": "code",
   "execution_count": 53,
   "metadata": {},
   "outputs": [
    {
     "data": {
      "text/plain": [
       "array([0.02702703, 0.05405405, 0.04826255, 0.03281853, 0.05984557,\n",
       "       0.08494207, 0.08494207, 0.06177607, 0.02895753, 0.        ,\n",
       "       0.02702703, 0.02123553, 0.04247104, 0.07142857, 0.05984557],\n",
       "      dtype=float32)"
      ]
     },
     "execution_count": 53,
     "metadata": {},
     "output_type": "execute_result"
    }
   ],
   "source": [
    "trainX[1]"
   ]
  },
  {
   "cell_type": "code",
   "execution_count": 54,
   "metadata": {},
   "outputs": [
    {
     "data": {
      "text/plain": [
       "'\\n# reshape input to be [samples, time steps, features]\\n#trainX = np.reshape(trainX, (trainX.shape[0], 1, trainX.shape[1]))\\n#testX = np.reshape(testX, (testX.shape[0], 1, testX.shape[1]))\\n'"
      ]
     },
     "execution_count": 54,
     "metadata": {},
     "output_type": "execute_result"
    }
   ],
   "source": [
    "\n",
    "\n",
    "\n",
    "\n",
    "\n",
    "# reshape input to be [samples, time steps, features]\n",
    "trainX = np.reshape(trainX, (trainX.shape[0], 1, trainX.shape[1]))\n",
    "testX = np.reshape(testX, (testX.shape[0], 1, testX.shape[1]))\n",
    "'''\n",
    "# reshape input to be [samples, time steps, features]\n",
    "#trainX = np.reshape(trainX, (trainX.shape[0], 1, trainX.shape[1]))\n",
    "#testX = np.reshape(testX, (testX.shape[0], 1, testX.shape[1]))\n",
    "'''"
   ]
  },
  {
   "cell_type": "code",
   "execution_count": null,
   "metadata": {},
   "outputs": [],
   "source": []
  },
  {
   "cell_type": "code",
   "execution_count": 55,
   "metadata": {},
   "outputs": [],
   "source": [
    "# Initialising the RNN\n",
    "from keras.layers import Dropout\n",
    "regressor = Sequential()\n",
    "\n",
    "# Adding the first LSTM layer and some Dropout regularisation\n",
    "regressor.add(LSTM(units = 50, return_sequences = True, input_shape = (1, look_back1)))\n",
    "regressor.add(Dropout(0.2))\n",
    "\n",
    "# Adding a second LSTM layer and some Dropout regularisation\n",
    "#regressor.add(LSTM(units = 50, return_sequences = True))\n",
    "#regressor.add(Dropout(0.2))\n",
    "\n",
    "# Adding a third LSTM layer and some Dropout regularisation\n",
    "#regressor.add(LSTM(units = 50, return_sequences = True))\n",
    "#regressor.add(Dropout(0.2))\n",
    "\n",
    "# Adding a fourth LSTM layer and some Dropout regularisation\n",
    "regressor.add(LSTM(units = 40))\n",
    "regressor.add(Dropout(0.2))\n",
    "\n",
    "# Adding the output layer\n",
    "regressor.add(Dense(units = 1))"
   ]
  },
  {
   "cell_type": "code",
   "execution_count": 56,
   "metadata": {},
   "outputs": [
    {
     "name": "stdout",
     "output_type": "stream",
     "text": [
      "Epoch 1/100\n",
      " - 50s - loss: 0.0234\n",
      "Epoch 2/100\n",
      " - 0s - loss: 0.0074\n",
      "Epoch 3/100\n",
      " - 0s - loss: 0.0056\n",
      "Epoch 4/100\n",
      " - 0s - loss: 0.0041\n",
      "Epoch 5/100\n",
      " - 0s - loss: 0.0034\n",
      "Epoch 6/100\n",
      " - 0s - loss: 0.0044\n",
      "Epoch 7/100\n",
      " - 0s - loss: 0.0037\n",
      "Epoch 8/100\n",
      " - 0s - loss: 0.0026\n",
      "Epoch 9/100\n",
      " - 0s - loss: 0.0027\n",
      "Epoch 10/100\n",
      " - 0s - loss: 0.0031\n",
      "Epoch 11/100\n",
      " - 0s - loss: 0.0017\n",
      "Epoch 12/100\n",
      " - 0s - loss: 0.0033\n",
      "Epoch 13/100\n",
      " - 0s - loss: 0.0020\n",
      "Epoch 14/100\n",
      " - 0s - loss: 0.0024\n",
      "Epoch 15/100\n",
      " - 0s - loss: 0.0021\n",
      "Epoch 16/100\n",
      " - 0s - loss: 0.0026\n",
      "Epoch 17/100\n",
      " - 0s - loss: 0.0014\n",
      "Epoch 18/100\n",
      " - 0s - loss: 0.0014\n",
      "Epoch 19/100\n",
      " - 0s - loss: 0.0018\n",
      "Epoch 20/100\n",
      " - 0s - loss: 0.0020\n",
      "Epoch 21/100\n",
      " - 0s - loss: 0.0015\n",
      "Epoch 22/100\n",
      " - 0s - loss: 0.0017\n",
      "Epoch 23/100\n",
      " - 0s - loss: 0.0015\n",
      "Epoch 24/100\n",
      " - 0s - loss: 0.0017\n",
      "Epoch 25/100\n",
      " - 0s - loss: 0.0017\n",
      "Epoch 26/100\n",
      " - 0s - loss: 0.0019\n",
      "Epoch 27/100\n",
      " - 0s - loss: 0.0014\n",
      "Epoch 28/100\n",
      " - 0s - loss: 0.0017\n",
      "Epoch 29/100\n",
      " - 0s - loss: 0.0016\n",
      "Epoch 30/100\n",
      " - 0s - loss: 0.0012\n",
      "Epoch 31/100\n",
      " - 0s - loss: 0.0016\n",
      "Epoch 32/100\n",
      " - 0s - loss: 0.0014\n",
      "Epoch 33/100\n",
      " - 0s - loss: 0.0016\n",
      "Epoch 34/100\n",
      " - 0s - loss: 0.0018\n",
      "Epoch 35/100\n",
      " - 0s - loss: 9.7073e-04\n",
      "Epoch 36/100\n",
      " - 0s - loss: 8.9383e-04\n",
      "Epoch 37/100\n",
      " - 0s - loss: 0.0011\n",
      "Epoch 38/100\n",
      " - 0s - loss: 0.0011\n",
      "Epoch 39/100\n",
      " - 0s - loss: 0.0014\n",
      "Epoch 40/100\n",
      " - 0s - loss: 0.0010\n",
      "Epoch 41/100\n",
      " - 0s - loss: 0.0010\n",
      "Epoch 42/100\n",
      " - 0s - loss: 0.0011\n",
      "Epoch 43/100\n",
      " - 0s - loss: 0.0013\n",
      "Epoch 44/100\n",
      " - 0s - loss: 0.0012\n",
      "Epoch 45/100\n",
      " - 0s - loss: 0.0012\n",
      "Epoch 46/100\n",
      " - 0s - loss: 9.1943e-04\n",
      "Epoch 47/100\n",
      " - 0s - loss: 0.0012\n",
      "Epoch 48/100\n",
      " - 0s - loss: 0.0011\n",
      "Epoch 49/100\n",
      " - 0s - loss: 0.0014\n",
      "Epoch 50/100\n",
      " - 0s - loss: 0.0016\n",
      "Epoch 51/100\n",
      " - 0s - loss: 0.0011\n",
      "Epoch 52/100\n",
      " - 0s - loss: 0.0011\n",
      "Epoch 53/100\n",
      " - 0s - loss: 0.0012\n",
      "Epoch 54/100\n",
      " - 0s - loss: 0.0012\n",
      "Epoch 55/100\n",
      " - 0s - loss: 0.0011\n",
      "Epoch 56/100\n",
      " - 0s - loss: 8.7884e-04\n",
      "Epoch 57/100\n",
      " - 0s - loss: 9.6573e-04\n",
      "Epoch 58/100\n",
      " - 0s - loss: 9.6788e-04\n",
      "Epoch 59/100\n",
      " - 0s - loss: 0.0013\n",
      "Epoch 60/100\n",
      " - 0s - loss: 0.0012\n",
      "Epoch 61/100\n",
      " - 0s - loss: 0.0011\n",
      "Epoch 62/100\n",
      " - 0s - loss: 0.0012\n",
      "Epoch 63/100\n",
      " - 0s - loss: 0.0012\n",
      "Epoch 64/100\n",
      " - 0s - loss: 8.2060e-04\n",
      "Epoch 65/100\n",
      " - 0s - loss: 0.0010\n",
      "Epoch 66/100\n",
      " - 0s - loss: 0.0013\n",
      "Epoch 67/100\n",
      " - 0s - loss: 0.0010\n",
      "Epoch 68/100\n",
      " - 0s - loss: 9.8160e-04\n",
      "Epoch 69/100\n",
      " - 0s - loss: 9.1245e-04\n",
      "Epoch 70/100\n",
      " - 0s - loss: 8.2341e-04\n",
      "Epoch 71/100\n",
      " - 0s - loss: 0.0010\n",
      "Epoch 72/100\n",
      " - 0s - loss: 0.0011\n",
      "Epoch 73/100\n",
      " - 0s - loss: 7.4847e-04\n",
      "Epoch 74/100\n",
      " - 0s - loss: 9.5363e-04\n",
      "Epoch 75/100\n",
      " - 0s - loss: 9.7695e-04\n",
      "Epoch 76/100\n",
      " - 0s - loss: 8.7958e-04\n",
      "Epoch 77/100\n",
      " - 0s - loss: 0.0017\n",
      "Epoch 78/100\n",
      " - 0s - loss: 9.6361e-04\n",
      "Epoch 79/100\n",
      " - 0s - loss: 7.6415e-04\n",
      "Epoch 80/100\n",
      " - 0s - loss: 7.6775e-04\n",
      "Epoch 81/100\n",
      " - 0s - loss: 8.4736e-04\n",
      "Epoch 82/100\n",
      " - 0s - loss: 0.0014\n",
      "Epoch 83/100\n",
      " - 0s - loss: 6.2688e-04\n",
      "Epoch 84/100\n",
      " - 0s - loss: 6.6784e-04\n",
      "Epoch 85/100\n",
      " - 0s - loss: 0.0012\n",
      "Epoch 86/100\n",
      " - 0s - loss: 0.0011\n",
      "Epoch 87/100\n",
      " - 0s - loss: 9.4367e-04\n",
      "Epoch 88/100\n",
      " - 0s - loss: 9.8242e-04\n",
      "Epoch 89/100\n",
      " - 0s - loss: 9.7296e-04\n",
      "Epoch 90/100\n",
      " - 0s - loss: 8.0670e-04\n",
      "Epoch 91/100\n",
      " - 0s - loss: 0.0010\n",
      "Epoch 92/100\n",
      " - 0s - loss: 0.0011\n",
      "Epoch 93/100\n",
      " - 0s - loss: 0.0010\n",
      "Epoch 94/100\n",
      " - 0s - loss: 7.6185e-04\n",
      "Epoch 95/100\n",
      " - 0s - loss: 6.8812e-04\n",
      "Epoch 96/100\n",
      " - 0s - loss: 8.4206e-04\n",
      "Epoch 97/100\n",
      " - 0s - loss: 7.0307e-04\n",
      "Epoch 98/100\n",
      " - 0s - loss: 7.5947e-04\n",
      "Epoch 99/100\n",
      " - 0s - loss: 0.0010\n",
      "Epoch 100/100\n",
      " - 0s - loss: 6.6000e-04\n"
     ]
    },
    {
     "data": {
      "text/plain": [
       "<keras.callbacks.History at 0x21fe33192b0>"
      ]
     },
     "execution_count": 56,
     "metadata": {},
     "output_type": "execute_result"
    }
   ],
   "source": [
    "regressor.compile(loss='mean_squared_error', optimizer='adam')\n",
    "regressor.fit(trainX, trainY, epochs=100, batch_size=1, verbose=2)"
   ]
  },
  {
   "cell_type": "code",
   "execution_count": 57,
   "metadata": {},
   "outputs": [
    {
     "name": "stdout",
     "output_type": "stream",
     "text": [
      "Train Score: 10.46 RMSE\n",
      "Test Score: 18.23 RMSE\n"
     ]
    }
   ],
   "source": [
    "\n",
    "# make predictions\n",
    "trainPredict = regressor.predict(trainX)\n",
    "testPredict = regressor.predict(testX)\n",
    "# invert predictions\n",
    "trainPredict = scaler.inverse_transform(trainPredict)\n",
    "trainY = scaler.inverse_transform([trainY])\n",
    "testPredict = scaler.inverse_transform(testPredict)\n",
    "testY = scaler.inverse_transform([testY])\n",
    "# calculate root mean squared error\n",
    "trainScore = math.sqrt(mean_squared_error(trainY[0], trainPredict[:,0]))\n",
    "print('Train Score: %.2f RMSE' % (trainScore))\n",
    "testScore = math.sqrt(mean_squared_error(testY[0], testPredict[:,0]))\n",
    "print('Test Score: %.2f RMSE' % (testScore))\n"
   ]
  },
  {
   "cell_type": "code",
   "execution_count": 60,
   "metadata": {},
   "outputs": [
    {
     "data": {
      "image/png": "[encoded data removed]",
      "text/plain": [
       "<Figure size 432x288 with 1 Axes>"
      ]
     },
     "metadata": {},
     "output_type": "display_data"
    }
   ],
   "source": [
    "\n",
    "# shift train predictions for plotting\n",
    "trainPredictPlot = np.empty_like(dataset)\n",
    "trainPredictPlot[:, :] = np.nan\n",
    "trainPredictPlot[look_back1:len(trainPredict)+look_back1, :] = trainPredict\n",
    "# shift test predictions for plotting\n",
    "testPredictPlot = np.empty_like(dataset)\n",
    "testPredictPlot[:, :] = np.nan\n",
    "testPredictPlot[len(trainPredict)+(look_back1*2)+1:len(dataset)-1, :] = testPredict\n",
    "# plot baseline and predictions\n",
    "plt.plot(scaler.inverse_transform(dataset))\n",
    "#plt.plot(trainPredictPlot)\n",
    "plt.plot(testPredictPlot)\n",
    "plt.show()\n"
   ]
  },
  {
   "cell_type": "code",
   "execution_count": null,
   "metadata": {},
   "outputs": [],
   "source": []
  }
 ],
 "metadata": {
  "kernelspec": {
   "display_name": "Python 3",
   "language": "python",
   "name": "python3"
  },
  "language_info": {
   "codemirror_mode": {
    "name": "ipython",
    "version": 3
   },
   "file_extension": ".py",
   "mimetype": "text/x-python",
   "name": "python",
   "nbconvert_exporter": "python",
   "pygments_lexer": "ipython3",
   "version": "3.7.4"
  }
 },
 "nbformat": 4,
 "nbformat_minor": 2
}
